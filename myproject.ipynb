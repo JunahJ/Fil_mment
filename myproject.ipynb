{
 "cells": [
  {
   "cell_type": "code",
   "execution_count": 16,
   "metadata": {},
   "outputs": [
    {
     "name": "stderr",
     "output_type": "stream",
     "text": [
      "\n",
      "[notice] A new release of pip is available: 23.2.1 -> 24.3.1\n",
      "[notice] To update, run: python.exe -m pip install --upgrade pip\n"
     ]
    }
   ],
   "source": [
    "!pip install -qU gradio python-dotenv langchain-upstage python-dotenv"
   ]
  },
  {
   "cell_type": "code",
   "execution_count": null,
   "metadata": {},
   "outputs": [],
   "source": [
    "import gradio as gr\n",
    "\n",
    "from langchain_upstage import (\n",
    "    ChatUpstage,\n",
    ")\n",
    "from langchain_core.prompts import ChatPromptTemplate, MessagesPlaceholder\n",
    "from langchain_core.output_parsers import StrOutputParser\n",
    "from langchain.schema import AIMessage, HumanMessage\n",
    "\n",
    "\n",
    "llm = ChatUpstage(streaming=True)"
   ]
  },
  {
   "cell_type": "code",
   "execution_count": 217,
   "metadata": {},
   "outputs": [],
   "source": [
    "# More general chat\n",
    "prompt1 = ChatPromptTemplate.from_messages(\n",
    "    [\n",
    "        (\"system\", \"사용자의 발언에서 비속어를 탐지하고, 표준어로 대체합니다. 비속어가 포함된 단어만 수정하고, 다른 단어는 절대로 건드리지 말고 그대로 유지합니다.\\\n",
    "         예시 입력이 주어지면 그 텍스트 뒤에 '에서 비속어를 표준어로 대체해줘'를 붙여서 새로운 텍스트에 대해 동작을 수행해줘.\"),\n",
    "        (\"human\", \"꼬우면 니가 차량 크기를 줄이세요. 차선 다 기본적으로 다 먹는 카니발 들고 와서 징징거리면 어쩌란 소리임.\"),\n",
    "        (\"ai\", \"마음에 안 들면 니가 차량 크기를 줄이세요. 차선 다 기본적으로 다 먹는 카니발 들고 와서 징징거리면 어떡하란 소리임.\"),\n",
    "        (\"human\", \"{message}\"),\n",
    "    ]\n",
    ")"
   ]
  },
  {
   "cell_type": "code",
   "execution_count": 218,
   "metadata": {},
   "outputs": [],
   "source": [
    "chain = prompt1 | llm | StrOutputParser()"
   ]
  },
  {
   "cell_type": "code",
   "execution_count": 225,
   "metadata": {},
   "outputs": [
    {
     "name": "stdout",
     "output_type": "stream",
     "text": [
      "와, 저 잼민이새끼 진짜 인싸 코스프레 오지네.\n"
     ]
    }
   ],
   "source": [
    "tmp = chain.invoke(\"와, 저 잼민이새끼 진짜 인싸 코스프레 오지네\")\n",
    "print(tmp)"
   ]
  },
  {
   "cell_type": "code",
   "execution_count": null,
   "metadata": {},
   "outputs": [],
   "source": [
    "prompt2 = ChatPromptTemplate.from_messages(\n",
    "    [\n",
    "    (\"system\", \"변환하는 문장에 대한 의미는 가능한 비슷하게 유지해줘. 전체적인 문장의 형식은 비슷하게 유지해줘.  내가 주는 문장에 대해서 다른 사람이 불쾌하지 않도록 바꿔줘.\"),\n",
    "    (\"human\", \"만나도 짜증 나 헤어져도 아직도 짜증 나 ㅋㅋ 헤어졌다고 해도 안 믿네 어쩌네.. 지금 타이밍에 기자들 엄청 쫓아다닐 텐데 어떻게 만나냐.\"),\n",
    "    (\"ai\", \"만나도 짜능 나 헤어져도 아직도 짜증 나 ㅋㅋ 헤어졌다고 해도 안 믿는다고 하시면... 지금 타이밍에 기자들 엄청 취재하고 있을텐데 어떻게 만나겠어요?\"),\n",
    "    (\"human\", \"{message}\"),\n",
    "    ]\n",
    ") "
   ]
  },
  {
   "cell_type": "code",
   "execution_count": 227,
   "metadata": {},
   "outputs": [],
   "source": [
    "chain2 = prompt2 | llm | StrOutputParser()"
   ]
  },
  {
   "cell_type": "code",
   "execution_count": 228,
   "metadata": {},
   "outputs": [
    {
     "name": "stdout",
     "output_type": "stream",
     "text": [
      "저 친구는 인싸인 척하는 것 같은데, 좀 과하네.\n"
     ]
    }
   ],
   "source": [
    "print(chain2.invoke(tmp))"
   ]
  },
  {
   "cell_type": "code",
   "execution_count": 119,
   "metadata": {},
   "outputs": [],
   "source": [
    "def chat(message, history):\n",
    "    history_langchain_format = []\n",
    "    for human, ai in history:\n",
    "        history_langchain_format.append(HumanMessage(content=human))\n",
    "        history_langchain_format.append(AIMessage(content=ai))\n",
    "\n",
    "    return chain.invoke({\"message\": message, \"history\": history_langchain_format})"
   ]
  },
  {
   "cell_type": "code",
   "execution_count": 120,
   "metadata": {},
   "outputs": [],
   "source": [
    "with gr.Blocks() as demo:\n",
    "    chatbot = gr.ChatInterface(\n",
    "        chat,\n",
    "        title=\"댓글 순화기\",\n",
    "    )\n",
    "    chatbot.chatbot.height = 300"
   ]
  },
  {
   "cell_type": "code",
   "execution_count": 121,
   "metadata": {},
   "outputs": [
    {
     "name": "stdout",
     "output_type": "stream",
     "text": [
      "* Running on local URL:  http://127.0.0.1:7877\n",
      "\n",
      "To create a public link, set `share=True` in `launch()`.\n"
     ]
    },
    {
     "data": {
      "text/html": [
       "<div><iframe src=\"http://127.0.0.1:7877/\" width=\"100%\" height=\"500\" allow=\"autoplay; camera; microphone; clipboard-read; clipboard-write;\" frameborder=\"0\" allowfullscreen></iframe></div>"
      ],
      "text/plain": [
       "<IPython.core.display.HTML object>"
      ]
     },
     "metadata": {},
     "output_type": "display_data"
    }
   ],
   "source": [
    "if __name__ == \"__main__\":\n",
    "    demo.launch()"
   ]
  },
  {
   "cell_type": "code",
   "execution_count": 15,
   "metadata": {},
   "outputs": [
    {
     "name": "stdout",
     "output_type": "stream",
     "text": [
      "ChatCompletion(id='11a452b6-7e42-446c-b3dc-6704a0005781', choices=[Choice(finish_reason='stop', index=0, logprobs=None, message=ChatCompletionMessage(content='객관적인 사실성 텍스트가 아닙니다. 주관적인 텍스트입니다.', refusal=None, role='assistant', audio=None, function_call=None, tool_calls=None))], created=1730517564, model='solar-mini-240612', object='chat.completion', service_tier=None, system_fingerprint=None, usage=CompletionUsage(completion_tokens=14, prompt_tokens=68, total_tokens=82, completion_tokens_details=None, prompt_tokens_details=None))\n",
      "Message only:\n",
      "'객관적인 사실성 텍스트가 아닙니다. 주관적인 텍스트입니다.'\n"
     ]
    }
   ],
   "source": [
    "import os\n",
    "from openai import OpenAI\n",
    "from pprint import pprint\n",
    "\n",
    "client = OpenAI(\n",
    "    api_key=os.environ[\"UPSTAGE_API_KEY\"], base_url=\"https://api.upstage.ai/v1/solar\"\n",
    ")\n",
    "chat_result = client.chat.completions.create(\n",
    "    model=\"solar-mini\",\n",
    "    messages=[\n",
    "        {\"role\": \"system\", \"content\": \"너는 텍스트가 객관적인 사실성 텍스트인지 확인해줘.\"},\n",
    "        {\"role\": \"user\", \"content\": \"뉴진스 노래 잘한다\"},\n",
    "        {\n",
    "            \"role\": \"assistant\",\n",
    "            \"content\": \"객관적인 사실성 텍스트가 아닙니다. 주관적인 텍스트입니다.\",\n",
    "        },\n",
    "        {\"role\": \"user\", \"content\": \"히틀러는 나쁜 사람이다\"},\n",
    "    ],\n",
    ")\n",
    "pprint(chat_result)\n",
    "print(\"Message only:\")\n",
    "pprint(chat_result.choices[0].message.content)"
   ]
  }
 ],
 "metadata": {
  "kernelspec": {
   "display_name": "Python 3",
   "language": "python",
   "name": "python3"
  },
  "language_info": {
   "codemirror_mode": {
    "name": "ipython",
    "version": 3
   },
   "file_extension": ".py",
   "mimetype": "text/x-python",
   "name": "python",
   "nbconvert_exporter": "python",
   "pygments_lexer": "ipython3",
   "version": "3.11.5"
  }
 },
 "nbformat": 4,
 "nbformat_minor": 2
}
